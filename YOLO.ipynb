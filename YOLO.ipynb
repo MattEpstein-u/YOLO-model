{
 "cells": [
  {
   "cell_type": "code",
   "execution_count": 47,
   "id": "b5569356-e35d-4d56-a981-11065e7400aa",
   "metadata": {},
   "outputs": [],
   "source": [
    "import numpy as np\n",
    "import fiftyone as fo\n",
    "import fiftyone.utils.random as four\n",
    "import fiftyone.zoo as foz\n",
    "import cv2\n",
    "import pyautogui\n",
    "import os\n",
    "import matplotlib.pyplot as plt\n",
    "import seaborn as sns\n",
    "from collections import defaultdict, Counter\n",
    "import pandas as pd\n",
    "from ultralytics import YOLO"
   ]
  },
  {
   "cell_type": "code",
   "execution_count": 2,
   "id": "d5875dbd-9932-40c8-84e0-caa41a951ca1",
   "metadata": {},
   "outputs": [
    {
     "name": "stdout",
     "output_type": "stream",
     "text": [
      "Dataset already downloaded\n",
      "You are running the oldest supported major version of MongoDB. Please refer to https://deprecation.voxel51.com for deprecation notices. You can suppress this exception by setting your `database_validation` config parameter to `False`. See https://docs.voxel51.com/user_guide/config.html#configuring-a-mongodb-connection for more information\n",
      "Loading existing dataset 'quickstart'. To reload from disk, either delete the existing dataset or provide a custom `dataset_name` to use\n"
     ]
    }
   ],
   "source": [
    "# A dataset with `ground_truth` detections and no tags\n",
    "dataset = (\n",
    "    foz.load_zoo_dataset(\"quickstart\")\n",
    "    .select_fields(\"ground_truth\")\n",
    "    .set_field(\"tags\", [])\n",
    ").clone()\n",
    "\n",
    "four.random_split(dataset, {\"train\": 0.7, \"test\": 0.2, \"val\": 0.1}, seed=4)"
   ]
  },
  {
   "cell_type": "code",
   "execution_count": 3,
   "id": "deabb554-dcaf-4f5b-ab04-42901817d1e7",
   "metadata": {},
   "outputs": [
    {
     "name": "stdout",
     "output_type": "stream",
     "text": [
      " 100% |█████████████████| 140/140 [1.4s elapsed, 0s remaining, 90.2 samples/s]          \n",
      "Directory 'yolov5_dataset' already exists; export will be merged with existing files\n",
      " 100% |███████████████████| 20/20 [224.7ms elapsed, 0s remaining, 89.0 samples/s]      \n"
     ]
    }
   ],
   "source": [
    "splits = [\"train\",\"val\"]\n",
    "label_field = \"ground_truth\"\n",
    "export_dir = \"yolov5_dataset\"\n",
    "classes = unique_labels = dataset.distinct(\"ground_truth.detections.label\")\n",
    "for split in splits:\n",
    "    split_view = dataset.match_tags(split)\n",
    "    split_view.export(\n",
    "        export_dir=export_dir,\n",
    "        dataset_type=fo.types.YOLOv5Dataset,\n",
    "        label_field=label_field,\n",
    "        split=split,\n",
    "        classes=classes,\n",
    "    )"
   ]
  },
  {
   "cell_type": "code",
   "execution_count": 44,
   "id": "bdfcfddf-873e-4248-8a25-cc26800da1d7",
   "metadata": {},
   "outputs": [],
   "source": [
    "model = YOLO(\"best.pt\")"
   ]
  },
  {
   "cell_type": "code",
   "execution_count": 45,
   "id": "94b97d73-1b0c-4a84-986d-02077baabbce",
   "metadata": {},
   "outputs": [
    {
     "name": "stdout",
     "output_type": "stream",
     "text": [
      "Loading best.onnx for ONNX Runtime inference...\n",
      "Using ONNX Runtime CPUExecutionProvider\n",
      "\n",
      "image 1/1 C:\\Users\\knigh\\Documents\\Mercyhurst\\R\\YOLOv1\\yogi.jpg: 640x640 (no detections), 795.3ms\n",
      "Speed: 9.4ms preprocess, 795.3ms inference, 2.9ms postprocess per image at shape (1, 3, 640, 640)\n"
     ]
    }
   ],
   "source": [
    "label = 'yogi'\n",
    "results = model.predict(f\"{label}.jpg\", conf=0.5)"
   ]
  },
  {
   "cell_type": "code",
   "execution_count": 46,
   "id": "adade4c6-d5c5-4316-9841-86783e842ade",
   "metadata": {},
   "outputs": [],
   "source": [
    "annotated_image = results[0].plot()\n",
    "\n",
    "# 1. Get the original dimensions of the annotated image.\n",
    "# We'll use the shape of the image array (height, width, channels)\n",
    "original_height, original_width, _ = annotated_image.shape\n",
    "\n",
    "# 2. Get the screen resolution\n",
    "screen_width, screen_height = pyautogui.size()\n",
    "\n",
    "# 3. Calculate the aspect ratio\n",
    "aspect_ratio = original_width / original_height\n",
    "\n",
    "# 4. Calculate new dimensions that maintain the aspect ratio\n",
    "if (screen_width / screen_height) > aspect_ratio:\n",
    "    # Screen is wider, so scale by height\n",
    "    new_height = screen_height\n",
    "    new_width = int(new_height * aspect_ratio)\n",
    "else:\n",
    "    # Screen is taller, so scale by width\n",
    "    new_width = screen_width\n",
    "    new_height = int(new_width / aspect_ratio)\n",
    "\n",
    "# 5. Resize the image with the new dimensions\n",
    "resized_image = cv2.resize(annotated_image, (round(new_width*.8), round(new_height*.8)))\n",
    "\n",
    "# 6. Display the resized image\n",
    "cv2.imshow(\"YOLO Detections\", resized_image)\n",
    "cv2.waitKey(0)\n",
    "cv2.destroyAllWindows()"
   ]
  },
  {
   "cell_type": "code",
   "execution_count": 34,
   "id": "b6548534-091d-4296-bdfa-026207f8a79b",
   "metadata": {},
   "outputs": [
    {
     "name": "stdout",
     "output_type": "stream",
     "text": [
      "\n",
      "Annotated image saved as 'babu_annotated.jpg'\n"
     ]
    }
   ],
   "source": [
    "cv2.imwrite(f\"{label}_annotated.jpg\", annotated_image)\n",
    "print(f\"\\nAnnotated image saved as '{label}_annotated.jpg'\")"
   ]
  },
  {
   "cell_type": "code",
   "execution_count": 49,
   "id": "b00877b4-c6fa-42d3-847d-67dfff8332aa",
   "metadata": {},
   "outputs": [
    {
     "ename": "SyntaxError",
     "evalue": "invalid decimal literal (1798366427.py, line 274)",
     "output_type": "error",
     "traceback": [
      "\u001b[1;36m  Cell \u001b[1;32mIn[49], line 274\u001b[1;36m\u001b[0m\n\u001b[1;33m    Detection Rate: {with_detections/len(detection_counts)*100:.1f}%\u001b[0m\n\u001b[1;37m                                                                ^\u001b[0m\n\u001b[1;31mSyntaxError\u001b[0m\u001b[1;31m:\u001b[0m invalid decimal literal\n"
     ]
    }
   ],
   "source": []
  },
  {
   "cell_type": "code",
   "execution_count": null,
   "id": "a811164e-273e-4c93-bc94-c7bcb6ff3152",
   "metadata": {},
   "outputs": [],
   "source": []
  }
 ],
 "metadata": {
  "kernelspec": {
   "display_name": "Python 3 (ipykernel)",
   "language": "python",
   "name": "python3"
  },
  "language_info": {
   "codemirror_mode": {
    "name": "ipython",
    "version": 3
   },
   "file_extension": ".py",
   "mimetype": "text/x-python",
   "name": "python",
   "nbconvert_exporter": "python",
   "pygments_lexer": "ipython3",
   "version": "3.12.3"
  }
 },
 "nbformat": 4,
 "nbformat_minor": 5
}
